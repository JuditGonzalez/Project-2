{
  "nbformat": 4,
  "nbformat_minor": 0,
  "metadata": {
    "colab": {
      "name": "Part 1.ipynb",
      "provenance": [],
      "collapsed_sections": [],
      "authorship_tag": "ABX9TyMR+vmXN79E0qhgSvDKmPcj",
      "include_colab_link": true
    },
    "kernelspec": {
      "name": "python3",
      "display_name": "Python 3"
    },
    "language_info": {
      "name": "python"
    }
  },
  "cells": [
    {
      "cell_type": "markdown",
      "metadata": {
        "id": "view-in-github",
        "colab_type": "text"
      },
      "source": [
        "<a href=\"https://colab.research.google.com/github/JuditGonzalez/Project-2/blob/main/Project%201.ipynb\" target=\"_parent\"><img src=\"https://colab.research.google.com/assets/colab-badge.svg\" alt=\"Open In Colab\"/></a>"
      ]
    },
    {
      "cell_type": "code",
      "source": [
        "import requests\n",
        "import pandas as pd\n",
        "url = 'https://www.alphavantage.co/query?function=TIME_SERIES_WEEKLY&symbol=IBM&apikey=demo'\n",
        "r = requests.get(url)\n",
        "data = r.json()\n",
        "stock =  pd.DataFrame.from_dict(data[\"Weekly Time Series\"], orient=\"index\")\n",
        "stock.reset_index(inplace=True)\n",
        "stock.rename(columns={\"1. open\":\"open\", \"2. high\":\"high\", \"3. low\":\"low\", \"4. close\":\"close\", \"5. volume\":\"volume\", \"index\":\"date\"},inplace=True)\n",
        "stock[\"ticker\"]=\"IBM\"\n",
        "\n",
        "def stock(ticker=True):\n",
        "  url = 'https://www.alphavantage.co/query?function=TIME_SERIES_WEEKLY&symbol=IBM&apikey=demo' +ticker+ \"&apikey=XJYDBTPJCIFSUX2A\"\n",
        "  r = requests.get(url)\n",
        "  data = r.json()\n",
        "  stock =  pd.DataFrame.from_dict(data[\"Weekly Time Series\"], orient=\"index\")\n",
        "  stock.reset_index(inplace=True)\n",
        "  stock.rename(columns={\"1. open\":\"open\", \"2. high\":\"high\", \"3. low\":\"low\", \"4. close\":\"close\", \"5. volume\":\"volume\", \"index\":\"date\"},inplace=True)\n",
        "  stock[\"ticker\"]= ticker\n",
        "  return stock\n",
        "  \n",
        "stock(ticker=\"A\")\n",
        "\n"
      ],
      "metadata": {
        "colab": {
          "base_uri": "https://localhost:8080/",
          "height": 423
        },
        "id": "Dj4wTFBc_nQF",
        "outputId": "d0fd18c7-a764-4f81-fbda-23fc9d48cbcc"
      },
      "execution_count": null,
      "outputs": [
        {
          "output_type": "execute_result",
          "data": {
            "text/plain": [
              "            date      open      high       low     close    volume ticker\n",
              "0     2022-04-18  126.6000  127.3899  125.5300  126.1700   4884150      A\n",
              "1     2022-04-14  127.9500  130.5800  124.9100  126.5600  15342641      A\n",
              "2     2022-04-08  130.2600  131.2300  126.7300  127.7300  16553021      A\n",
              "3     2022-04-01  130.8200  133.0800  128.0600  130.1500  19183786      A\n",
              "4     2022-03-25  129.0000  131.4000  127.4000  131.3500  15440952      A\n",
              "...          ...       ...       ...       ...       ...       ...    ...\n",
              "1167  1999-12-10  113.0000  122.1200  107.5600  109.0000  58626000      A\n",
              "1168  1999-12-03  104.9400  112.8700  102.1200  111.8700  37670000      A\n",
              "1169  1999-11-26  105.5000  109.8700  101.8100  105.0000  37165600      A\n",
              "1170  1999-11-19   96.0000  105.1200   92.6200  103.9400  61550800      A\n",
              "1171  1999-11-12   90.5000   97.5000   90.5000   95.8700  43569700      A\n",
              "\n",
              "[1172 rows x 7 columns]"
            ],
            "text/html": [
              "\n",
              "  <div id=\"df-34898659-874e-4f12-bb02-7b163b817596\">\n",
              "    <div class=\"colab-df-container\">\n",
              "      <div>\n",
              "<style scoped>\n",
              "    .dataframe tbody tr th:only-of-type {\n",
              "        vertical-align: middle;\n",
              "    }\n",
              "\n",
              "    .dataframe tbody tr th {\n",
              "        vertical-align: top;\n",
              "    }\n",
              "\n",
              "    .dataframe thead th {\n",
              "        text-align: right;\n",
              "    }\n",
              "</style>\n",
              "<table border=\"1\" class=\"dataframe\">\n",
              "  <thead>\n",
              "    <tr style=\"text-align: right;\">\n",
              "      <th></th>\n",
              "      <th>date</th>\n",
              "      <th>open</th>\n",
              "      <th>high</th>\n",
              "      <th>low</th>\n",
              "      <th>close</th>\n",
              "      <th>volume</th>\n",
              "      <th>ticker</th>\n",
              "    </tr>\n",
              "  </thead>\n",
              "  <tbody>\n",
              "    <tr>\n",
              "      <th>0</th>\n",
              "      <td>2022-04-18</td>\n",
              "      <td>126.6000</td>\n",
              "      <td>127.3899</td>\n",
              "      <td>125.5300</td>\n",
              "      <td>126.1700</td>\n",
              "      <td>4884150</td>\n",
              "      <td>A</td>\n",
              "    </tr>\n",
              "    <tr>\n",
              "      <th>1</th>\n",
              "      <td>2022-04-14</td>\n",
              "      <td>127.9500</td>\n",
              "      <td>130.5800</td>\n",
              "      <td>124.9100</td>\n",
              "      <td>126.5600</td>\n",
              "      <td>15342641</td>\n",
              "      <td>A</td>\n",
              "    </tr>\n",
              "    <tr>\n",
              "      <th>2</th>\n",
              "      <td>2022-04-08</td>\n",
              "      <td>130.2600</td>\n",
              "      <td>131.2300</td>\n",
              "      <td>126.7300</td>\n",
              "      <td>127.7300</td>\n",
              "      <td>16553021</td>\n",
              "      <td>A</td>\n",
              "    </tr>\n",
              "    <tr>\n",
              "      <th>3</th>\n",
              "      <td>2022-04-01</td>\n",
              "      <td>130.8200</td>\n",
              "      <td>133.0800</td>\n",
              "      <td>128.0600</td>\n",
              "      <td>130.1500</td>\n",
              "      <td>19183786</td>\n",
              "      <td>A</td>\n",
              "    </tr>\n",
              "    <tr>\n",
              "      <th>4</th>\n",
              "      <td>2022-03-25</td>\n",
              "      <td>129.0000</td>\n",
              "      <td>131.4000</td>\n",
              "      <td>127.4000</td>\n",
              "      <td>131.3500</td>\n",
              "      <td>15440952</td>\n",
              "      <td>A</td>\n",
              "    </tr>\n",
              "    <tr>\n",
              "      <th>...</th>\n",
              "      <td>...</td>\n",
              "      <td>...</td>\n",
              "      <td>...</td>\n",
              "      <td>...</td>\n",
              "      <td>...</td>\n",
              "      <td>...</td>\n",
              "      <td>...</td>\n",
              "    </tr>\n",
              "    <tr>\n",
              "      <th>1167</th>\n",
              "      <td>1999-12-10</td>\n",
              "      <td>113.0000</td>\n",
              "      <td>122.1200</td>\n",
              "      <td>107.5600</td>\n",
              "      <td>109.0000</td>\n",
              "      <td>58626000</td>\n",
              "      <td>A</td>\n",
              "    </tr>\n",
              "    <tr>\n",
              "      <th>1168</th>\n",
              "      <td>1999-12-03</td>\n",
              "      <td>104.9400</td>\n",
              "      <td>112.8700</td>\n",
              "      <td>102.1200</td>\n",
              "      <td>111.8700</td>\n",
              "      <td>37670000</td>\n",
              "      <td>A</td>\n",
              "    </tr>\n",
              "    <tr>\n",
              "      <th>1169</th>\n",
              "      <td>1999-11-26</td>\n",
              "      <td>105.5000</td>\n",
              "      <td>109.8700</td>\n",
              "      <td>101.8100</td>\n",
              "      <td>105.0000</td>\n",
              "      <td>37165600</td>\n",
              "      <td>A</td>\n",
              "    </tr>\n",
              "    <tr>\n",
              "      <th>1170</th>\n",
              "      <td>1999-11-19</td>\n",
              "      <td>96.0000</td>\n",
              "      <td>105.1200</td>\n",
              "      <td>92.6200</td>\n",
              "      <td>103.9400</td>\n",
              "      <td>61550800</td>\n",
              "      <td>A</td>\n",
              "    </tr>\n",
              "    <tr>\n",
              "      <th>1171</th>\n",
              "      <td>1999-11-12</td>\n",
              "      <td>90.5000</td>\n",
              "      <td>97.5000</td>\n",
              "      <td>90.5000</td>\n",
              "      <td>95.8700</td>\n",
              "      <td>43569700</td>\n",
              "      <td>A</td>\n",
              "    </tr>\n",
              "  </tbody>\n",
              "</table>\n",
              "<p>1172 rows × 7 columns</p>\n",
              "</div>\n",
              "      <button class=\"colab-df-convert\" onclick=\"convertToInteractive('df-34898659-874e-4f12-bb02-7b163b817596')\"\n",
              "              title=\"Convert this dataframe to an interactive table.\"\n",
              "              style=\"display:none;\">\n",
              "        \n",
              "  <svg xmlns=\"http://www.w3.org/2000/svg\" height=\"24px\"viewBox=\"0 0 24 24\"\n",
              "       width=\"24px\">\n",
              "    <path d=\"M0 0h24v24H0V0z\" fill=\"none\"/>\n",
              "    <path d=\"M18.56 5.44l.94 2.06.94-2.06 2.06-.94-2.06-.94-.94-2.06-.94 2.06-2.06.94zm-11 1L8.5 8.5l.94-2.06 2.06-.94-2.06-.94L8.5 2.5l-.94 2.06-2.06.94zm10 10l.94 2.06.94-2.06 2.06-.94-2.06-.94-.94-2.06-.94 2.06-2.06.94z\"/><path d=\"M17.41 7.96l-1.37-1.37c-.4-.4-.92-.59-1.43-.59-.52 0-1.04.2-1.43.59L10.3 9.45l-7.72 7.72c-.78.78-.78 2.05 0 2.83L4 21.41c.39.39.9.59 1.41.59.51 0 1.02-.2 1.41-.59l7.78-7.78 2.81-2.81c.8-.78.8-2.07 0-2.86zM5.41 20L4 18.59l7.72-7.72 1.47 1.35L5.41 20z\"/>\n",
              "  </svg>\n",
              "      </button>\n",
              "      \n",
              "  <style>\n",
              "    .colab-df-container {\n",
              "      display:flex;\n",
              "      flex-wrap:wrap;\n",
              "      gap: 12px;\n",
              "    }\n",
              "\n",
              "    .colab-df-convert {\n",
              "      background-color: #E8F0FE;\n",
              "      border: none;\n",
              "      border-radius: 50%;\n",
              "      cursor: pointer;\n",
              "      display: none;\n",
              "      fill: #1967D2;\n",
              "      height: 32px;\n",
              "      padding: 0 0 0 0;\n",
              "      width: 32px;\n",
              "    }\n",
              "\n",
              "    .colab-df-convert:hover {\n",
              "      background-color: #E2EBFA;\n",
              "      box-shadow: 0px 1px 2px rgba(60, 64, 67, 0.3), 0px 1px 3px 1px rgba(60, 64, 67, 0.15);\n",
              "      fill: #174EA6;\n",
              "    }\n",
              "\n",
              "    [theme=dark] .colab-df-convert {\n",
              "      background-color: #3B4455;\n",
              "      fill: #D2E3FC;\n",
              "    }\n",
              "\n",
              "    [theme=dark] .colab-df-convert:hover {\n",
              "      background-color: #434B5C;\n",
              "      box-shadow: 0px 1px 3px 1px rgba(0, 0, 0, 0.15);\n",
              "      filter: drop-shadow(0px 1px 2px rgba(0, 0, 0, 0.3));\n",
              "      fill: #FFFFFF;\n",
              "    }\n",
              "  </style>\n",
              "\n",
              "      <script>\n",
              "        const buttonEl =\n",
              "          document.querySelector('#df-34898659-874e-4f12-bb02-7b163b817596 button.colab-df-convert');\n",
              "        buttonEl.style.display =\n",
              "          google.colab.kernel.accessAllowed ? 'block' : 'none';\n",
              "\n",
              "        async function convertToInteractive(key) {\n",
              "          const element = document.querySelector('#df-34898659-874e-4f12-bb02-7b163b817596');\n",
              "          const dataTable =\n",
              "            await google.colab.kernel.invokeFunction('convertToInteractive',\n",
              "                                                     [key], {});\n",
              "          if (!dataTable) return;\n",
              "\n",
              "          const docLinkHtml = 'Like what you see? Visit the ' +\n",
              "            '<a target=\"_blank\" href=https://colab.research.google.com/notebooks/data_table.ipynb>data table notebook</a>'\n",
              "            + ' to learn more about interactive tables.';\n",
              "          element.innerHTML = '';\n",
              "          dataTable['output_type'] = 'display_data';\n",
              "          await google.colab.output.renderOutput(dataTable, element);\n",
              "          const docLink = document.createElement('div');\n",
              "          docLink.innerHTML = docLinkHtml;\n",
              "          element.appendChild(docLink);\n",
              "        }\n",
              "      </script>\n",
              "    </div>\n",
              "  </div>\n",
              "  "
            ]
          },
          "metadata": {},
          "execution_count": 3
        }
      ]
    },
    {
      "cell_type": "code",
      "source": [
        "stocks=stock(ticker=\"A\")"
      ],
      "metadata": {
        "id": "0SSoOQDYfGwc"
      },
      "execution_count": null,
      "outputs": []
    },
    {
      "cell_type": "code",
      "source": [
        "stocks['date']"
      ],
      "metadata": {
        "colab": {
          "base_uri": "https://localhost:8080/"
        },
        "id": "FIH0Wi8MZu5D",
        "outputId": "2f3ac6f6-c60d-4d02-9b67-046ed0fc3498"
      },
      "execution_count": null,
      "outputs": [
        {
          "output_type": "execute_result",
          "data": {
            "text/plain": [
              "0       2022-04-18\n",
              "1       2022-04-14\n",
              "2       2022-04-08\n",
              "3       2022-04-01\n",
              "4       2022-03-25\n",
              "           ...    \n",
              "1167    1999-12-10\n",
              "1168    1999-12-03\n",
              "1169    1999-11-26\n",
              "1170    1999-11-19\n",
              "1171    1999-11-12\n",
              "Name: date, Length: 1172, dtype: object"
            ]
          },
          "metadata": {},
          "execution_count": 5
        }
      ]
    },
    {
      "cell_type": "code",
      "source": [
        "stocks['date']= pd.to_datetime(stocks['date'])\n",
        "stocks.dtypes\n",
        "stocks.columns"
      ],
      "metadata": {
        "colab": {
          "base_uri": "https://localhost:8080/"
        },
        "id": "HRm8E8jAXzAL",
        "outputId": "4178b5b8-e68a-4531-b67b-55db17c07bb6"
      },
      "execution_count": null,
      "outputs": [
        {
          "output_type": "execute_result",
          "data": {
            "text/plain": [
              "Index(['date', 'open', 'high', 'low', 'close', 'volume', 'ticker'], dtype='object')"
            ]
          },
          "metadata": {},
          "execution_count": 6
        }
      ]
    },
    {
      "cell_type": "code",
      "source": [
        "stocks=stock (ticker=\"A\")\n",
        "\n",
        "stocks['date']= pd.to_datetime(stocks['date'])\n",
        "stocks.dtypes\n",
        "\n",
        "column_names= stocks.columns\n",
        "for i in column_names[1:6]:\n",
        "  stocks[i]= stocks[i].astype('float')\n",
        "stocks.dtypes\n"
      ],
      "metadata": {
        "colab": {
          "base_uri": "https://localhost:8080/"
        },
        "id": "CuiWZdBQdGZy",
        "outputId": "9a96165b-fb7a-45d0-c2e8-1174f8fe954b"
      },
      "execution_count": null,
      "outputs": [
        {
          "output_type": "execute_result",
          "data": {
            "text/plain": [
              "date      datetime64[ns]\n",
              "open             float64\n",
              "high             float64\n",
              "low              float64\n",
              "close            float64\n",
              "volume           float64\n",
              "ticker            object\n",
              "dtype: object"
            ]
          },
          "metadata": {},
          "execution_count": 7
        }
      ]
    },
    {
      "cell_type": "code",
      "source": [
        "\n",
        "import matplotlib.pyplot as plt\n",
        "\n",
        "\n",
        "\n",
        "plt. plot (stocks ['date'], stocks['high'])\n",
        "plt. title ('IBM monthly stock price versus time')\n",
        "plt. xlabel ('date')\n",
        "plt. ylabel ('IBM monthly stock price')\n",
        "plt.legend()\n",
        "plt.show()\n"
      ],
      "metadata": {
        "colab": {
          "base_uri": "https://localhost:8080/",
          "height": 313
        },
        "id": "jufBkC6GEdoq",
        "outputId": "d229595f-3067-4236-9da5-f4d4f906259c"
      },
      "execution_count": null,
      "outputs": [
        {
          "output_type": "stream",
          "name": "stderr",
          "text": [
            "No handles with labels found to put in legend.\n"
          ]
        },
        {
          "output_type": "display_data",
          "data": {
            "text/plain": [
              "<Figure size 432x288 with 1 Axes>"
            ],
            "image/png": "[encoded data removed]"
          },
          "metadata": {
            "needs_background": "light"
          }
        }
      ]
    }
  ]
}